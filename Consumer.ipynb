{
 "cells": [
  {
   "cell_type": "code",
   "execution_count": 163,
   "id": "d17a5bb5",
   "metadata": {},
   "outputs": [],
   "source": [
    "from kafka import KafkaConsumer\n",
    "from time import sleep\n",
    "import json\n",
    "import re\n",
    "import pandas as pd\n",
    "import tqdm"
   ]
  },
  {
   "cell_type": "markdown",
   "id": "666da5e6",
   "metadata": {},
   "source": [
    "##  Créer un topic nommé test"
   ]
  },
  {
   "cell_type": "code",
   "execution_count": 164,
   "id": "79cb9525",
   "metadata": {},
   "outputs": [
    {
     "data": {
      "text/plain": [
       "{'test': <Future at 0x1f51c1ea2c8 state=running>}"
      ]
     },
     "execution_count": 164,
     "metadata": {},
     "output_type": "execute_result"
    }
   ],
   "source": [
    "from confluent_kafka.admin import AdminClient, NewTopic\n",
    "\n",
    "\n",
    "admin_client = AdminClient({\n",
    "    \"bootstrap.servers\": \"localhost:9092\"\n",
    "})\n",
    "\n",
    "topic_list = []\n",
    "topic_list.append(NewTopic(\"test\", 1, 1))\n",
    "admin_client.create_topics(topic_list)"
   ]
  },
  {
   "cell_type": "markdown",
   "id": "6ec87db4",
   "metadata": {},
   "source": [
    "## Créer un consommateur qui va recevoir le traffic depuis le topic test"
   ]
  },
  {
   "cell_type": "code",
   "execution_count": 165,
   "id": "da32cbda",
   "metadata": {},
   "outputs": [],
   "source": [
    "consumer = KafkaConsumer('test',bootstrap_servers=['localhost:9092'],api_version=(0,10))"
   ]
  },
  {
   "cell_type": "markdown",
   "id": "f1132454",
   "metadata": {},
   "source": [
    "## Préparation de données"
   ]
  },
  {
   "cell_type": "code",
   "execution_count": 166,
   "id": "e0adc497",
   "metadata": {},
   "outputs": [],
   "source": [
    "# There is a minor bug in this regex, it misses the last field. I'll fix this soon. \n",
    "\n",
    "common_regex = '^(?P<client>\\S+) \\S+ (?P<userid>\\S+) \\[(?P<datetime>[^\\]]+)\\] \"(?P<method>[A-Z]+) (?P<request>[^ \"]+)? HTTP/[0-9.]+\" (?P<status>[0-9]{3}) (?P<size>[0-9]+|-)'\n",
    "combined_regex = '^(?P<client>\\S+) \\S+ (?P<userid>\\S+) \\[(?P<datetime>[^\\]]+)\\] \"(?P<method>[A-Z]+) (?P<request>[^ \"]+)? HTTP/[0-9.]+\" (?P<status>[0-9]{3}) (?P<size>[0-9]+|-) \"(?P<referrer>[^\"]*)\" \"(?P<useragent>[^\"]*)'\n",
    "columns = ['client', 'userid', 'datetime', 'method', 'request', 'status', 'size', 'referer', 'user_agent']"
   ]
  },
  {
   "cell_type": "code",
   "execution_count": 167,
   "id": "7b370f23",
   "metadata": {},
   "outputs": [],
   "source": [
    "# Cette fonction permet de transformer une ligne en un dictionnaire bien structuré pour faciliter le stockage dans mongoDB\n",
    "def get_dic(line):\n",
    "    dic={'client':line[0],'datetime':pd.to_datetime(line[2],format='%d/%b/%Y:%H:%M:%S %z'),'method':line[3],'request':line[4],'status':line[5],'size':line[6],'referer':line[7],'user_agent':line[8]}\n",
    "    return dic"
   ]
  },
  {
   "cell_type": "code",
   "execution_count": 168,
   "id": "da9531da",
   "metadata": {},
   "outputs": [],
   "source": [
    "# Connection à la base de données logs_db\n",
    "import pymongo\n",
    "def connect_db():\n",
    "    myclient = pymongo.MongoClient(\"mongodb://localhost:27017/\")\n",
    "    mydb = myclient[\"logs_db\"]\n",
    "    mycoll = mydb[\"logs\"]\n",
    "    return mycoll"
   ]
  },
  {
   "cell_type": "code",
   "execution_count": 169,
   "id": "f53c278b",
   "metadata": {},
   "outputs": [],
   "source": [
    "# Insérer un document dans la base de données\n",
    "def insert_line(line,mycol):\n",
    "    try:\n",
    "        log_line = re.findall(combined_regex, line)[0]\n",
    "        dic = get_dic(log_line)\n",
    "        mycol.insert_one(dic)\n",
    "    except Exception as e:\n",
    "        print()\n",
    "     \n",
    "        "
   ]
  },
  {
   "cell_type": "code",
   "execution_count": 170,
   "id": "4e738d3e",
   "metadata": {},
   "outputs": [],
   "source": [
    "mycol = connect_db()"
   ]
  },
  {
   "cell_type": "code",
   "execution_count": null,
   "id": "ffef96a2",
   "metadata": {},
   "outputs": [
    {
     "name": "stdout",
     "output_type": "stream",
     "text": [
      "\n",
      "\n",
      "\n"
     ]
    }
   ],
   "source": [
    "# Stocker les documents traités dans la base de données\n",
    "for message in consumer:\n",
    "    line = json.loads(message.value)\n",
    "    insert_line(line,mycol)\n"
   ]
  },
  {
   "cell_type": "code",
   "execution_count": 77,
   "id": "4fe9e4e2",
   "metadata": {},
   "outputs": [
    {
     "data": {
      "text/plain": [
       "<pymongo.results.InsertOneResult at 0x1f519c0b8c8>"
      ]
     },
     "execution_count": 77,
     "metadata": {},
     "output_type": "execute_result"
    }
   ],
   "source": [
    "#dic = {\"nom\":\"ismail\",\"age\":23}\n",
    "#mycol.insert_one(dic)\n"
   ]
  }
 ],
 "metadata": {
  "kernelspec": {
   "display_name": "Python 3 (ipykernel)",
   "language": "python",
   "name": "python3"
  },
  "language_info": {
   "codemirror_mode": {
    "name": "ipython",
    "version": 3
   },
   "file_extension": ".py",
   "mimetype": "text/x-python",
   "name": "python",
   "nbconvert_exporter": "python",
   "pygments_lexer": "ipython3",
   "version": "3.7.12"
  }
 },
 "nbformat": 4,
 "nbformat_minor": 5
}
