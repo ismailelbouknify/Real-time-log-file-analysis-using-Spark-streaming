{
 "cells": [
  {
   "cell_type": "code",
   "execution_count": 36,
   "id": "ce573f86",
   "metadata": {},
   "outputs": [],
   "source": [
    "from kafka import KafkaProducer\n",
    "from time import sleep\n",
    "import json\n",
    "import pandas as pd"
   ]
  },
  {
   "cell_type": "markdown",
   "id": "7e966199",
   "metadata": {},
   "source": [
    "## Création d'un producer kafka qui va diffuser les données log dans le topic"
   ]
  },
  {
   "cell_type": "code",
   "execution_count": 37,
   "id": "a17568e5",
   "metadata": {},
   "outputs": [],
   "source": [
    "producer = KafkaProducer(bootstrap_servers=['localhost:9092'],api_version=(0,10,1))"
   ]
  },
  {
   "cell_type": "code",
   "execution_count": 12,
   "id": "48156d5e",
   "metadata": {},
   "outputs": [],
   "source": [
    "# Ouvrir le fichier en lecture seule\n",
    "file = open('C:\\\\Users\\\\hp\\BDSaS\\\\Big_Data\\\\dataset\\\\access.log', \"r\")\n",
    "# utiliser readlines pour lire toutes les lignes du fichier\n",
    "# La variable \"lignes\" est une liste contenant toutes les lignes du fichier\n",
    "lines = file.readlines()\n",
    "# fermez le fichier après avoir lu les lignes\n",
    "file.close()\n"
   ]
  },
  {
   "cell_type": "markdown",
   "id": "1d134176",
   "metadata": {},
   "source": [
    "## Envoyer le traffic du web ligne par ligne à travers le topic nommé test"
   ]
  },
  {
   "cell_type": "code",
   "execution_count": null,
   "id": "a09c6ab8",
   "metadata": {},
   "outputs": [
    {
     "name": "stderr",
     "output_type": "stream",
     "text": [
      "  1%|          | 94851/10365152 [24:46<45:13:19, 63.09it/s]"
     ]
    }
   ],
   "source": [
    "from tqdm import tqdm\n",
    "for line in tqdm(lines):\n",
    "    producer.send('test',json.dumps(line).encode('utf-8'))\n",
    "    sleep(1/1000)"
   ]
  },
  {
   "cell_type": "code",
   "execution_count": 34,
   "id": "a9c8ac66",
   "metadata": {},
   "outputs": [
    {
     "data": {
      "text/plain": [
       "<kafka.producer.future.FutureRecordMetadata at 0x1c39aa02948>"
      ]
     },
     "execution_count": 34,
     "metadata": {},
     "output_type": "execute_result"
    }
   ],
   "source": [
    "#dic = {\"nom\":\"ismail\",\"age\":23}\n",
    "#producer.send('test',json.dumps(dic).encode('utf-8'))"
   ]
  }
 ],
 "metadata": {
  "kernelspec": {
   "display_name": "Python 3 (ipykernel)",
   "language": "python",
   "name": "python3"
  },
  "language_info": {
   "codemirror_mode": {
    "name": "ipython",
    "version": 3
   },
   "file_extension": ".py",
   "mimetype": "text/x-python",
   "name": "python",
   "nbconvert_exporter": "python",
   "pygments_lexer": "ipython3",
   "version": "3.7.12"
  }
 },
 "nbformat": 4,
 "nbformat_minor": 5
}
