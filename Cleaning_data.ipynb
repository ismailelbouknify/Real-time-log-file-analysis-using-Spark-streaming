{
  "metadata": {
    "kernelspec": {
      "language": "python",
      "display_name": "Python 3",
      "name": "python3"
    },
    "language_info": {
      "name": "python",
      "version": "3.7.9",
      "mimetype": "text/x-python",
      "codemirror_mode": {
        "name": "ipython",
        "version": 3
      },
      "pygments_lexer": "ipython3",
      "nbconvert_exporter": "python",
      "file_extension": ".py"
    },
    "colab": {
      "name": "Cleaning_data.ipynb",
      "provenance": [],
      "collapsed_sections": []
    }
  },
  "nbformat_minor": 0,
  "nbformat": 4,
  "cells": [
    {
      "cell_type": "code",
      "source": [
        "%%capture\n",
        "!pip install advertools"
      ],
      "metadata": {
        "execution": {
          "iopub.status.busy": "2022-01-18T09:15:21.952561Z",
          "iopub.execute_input": "2022-01-18T09:15:21.952855Z",
          "iopub.status.idle": "2022-01-18T09:15:43.592005Z",
          "shell.execute_reply.started": "2022-01-18T09:15:21.952827Z",
          "shell.execute_reply": "2022-01-18T09:15:43.590873Z"
        },
        "trusted": true,
        "id": "_u5a9-Jw7rWg"
      },
      "execution_count": 8,
      "outputs": []
    },
    {
      "cell_type": "code",
      "source": [
        "import pandas as pd\n",
        "pd.options.display.max_columns = None\n",
        "import re\n",
        "import os\n",
        "import time\n",
        "from tqdm import tqdm\n"
      ],
      "metadata": {
        "_uuid": "8f2839f25d086af736a60e9eeb907d3b93b6e0e5",
        "_cell_guid": "b1076dfc-b9ad-4769-8c92-a6c4dae69d19",
        "execution": {
          "iopub.status.busy": "2022-01-18T20:33:57.474102Z",
          "iopub.execute_input": "2022-01-18T20:33:57.474513Z",
          "iopub.status.idle": "2022-01-18T20:33:57.501841Z",
          "shell.execute_reply.started": "2022-01-18T20:33:57.474406Z",
          "shell.execute_reply": "2022-01-18T20:33:57.500856Z"
        },
        "trusted": true,
        "id": "KtvLRaVD7rWi"
      },
      "execution_count": 11,
      "outputs": []
    },
    {
      "cell_type": "code",
      "source": [
        "from google.colab import drive\n",
        "drive.mount('/content/drive')"
      ],
      "metadata": {
        "colab": {
          "base_uri": "https://localhost:8080/"
        },
        "id": "ZGJ6u7oK7v61",
        "outputId": "466b10f4-2264-4667-9c39-ff4532271d11"
      },
      "execution_count": 12,
      "outputs": [
        {
          "output_type": "stream",
          "name": "stdout",
          "text": [
            "Drive already mounted at /content/drive; to attempt to forcibly remount, call drive.mount(\"/content/drive\", force_remount=True).\n"
          ]
        }
      ]
    },
    {
      "cell_type": "markdown",
      "source": [
        "## Sample lines from the log file"
      ],
      "metadata": {
        "id": "s_OmZnoM7rWj"
      }
    },
    {
      "cell_type": "code",
      "source": [
        "# There is a minor bug in this regex, it misses the last field. I'll fix this soon. \n",
        "\n",
        "common_regex = '^(?P<client>\\S+) \\S+ (?P<userid>\\S+) \\[(?P<datetime>[^\\]]+)\\] \"(?P<method>[A-Z]+) (?P<request>[^ \"]+)? HTTP/[0-9.]+\" (?P<status>[0-9]{3}) (?P<size>[0-9]+|-)'\n",
        "combined_regex = '^(?P<client>\\S+) \\S+ (?P<userid>\\S+) \\[(?P<datetime>[^\\]]+)\\] \"(?P<method>[A-Z]+) (?P<request>[^ \"]+)? HTTP/[0-9.]+\" (?P<status>[0-9]{3}) (?P<size>[0-9]+|-) \"(?P<referrer>[^\"]*)\" \"(?P<useragent>[^\"]*)'\n",
        "columns = ['client', 'userid', 'datetime', 'method', 'request', 'status', 'size', 'referer', 'user_agent']"
      ],
      "metadata": {
        "execution": {
          "iopub.status.busy": "2022-01-18T20:38:26.866864Z",
          "iopub.execute_input": "2022-01-18T20:38:26.867402Z",
          "iopub.status.idle": "2022-01-18T20:38:26.872189Z",
          "shell.execute_reply.started": "2022-01-18T20:38:26.867363Z",
          "shell.execute_reply": "2022-01-18T20:38:26.870911Z"
        },
        "trusted": true,
        "id": "fEYx9SlJ7rWm"
      },
      "execution_count": 13,
      "outputs": []
    },
    {
      "cell_type": "code",
      "source": [
        ""
      ],
      "metadata": {
        "execution": {
          "iopub.status.busy": "2022-01-18T09:15:45.126091Z",
          "iopub.execute_input": "2022-01-18T09:15:45.12637Z",
          "iopub.status.idle": "2022-01-18T09:15:45.890316Z",
          "shell.execute_reply.started": "2022-01-18T09:15:45.126342Z",
          "shell.execute_reply": "2022-01-18T09:15:45.889358Z"
        },
        "trusted": true,
        "id": "XebCbKet7rWo"
      },
      "execution_count": null,
      "outputs": []
    },
    {
      "cell_type": "markdown",
      "source": [
        "# The `logs_to_df` function"
      ],
      "metadata": {
        "id": "oychW1H_7rWp"
      }
    },
    {
      "cell_type": "code",
      "source": [
        "import time\n",
        "import re\n",
        "import pandas as pd\n",
        "\n",
        "\n",
        "def logs_to_df(logfile, output_dir, errors_file):\n",
        "    with open(logfile) as source_file:\n",
        "        linenumber = 0\n",
        "        parsed_lines = []\n",
        "        for line in tqdm(source_file):\n",
        "            try:\n",
        "                log_line = re.findall(combined_regex, line)[0]\n",
        "                parsed_lines.append(log_line)\n",
        "            except Exception as e:\n",
        "                with open(errors_file, 'at') as errfile:\n",
        "                    print((line, str(e)), file=errfile)\n",
        "                continue\n",
        "            linenumber += 1\n",
        "            if linenumber % 250_000 == 0:\n",
        "                df = pd.DataFrame(parsed_lines, columns=columns)\n",
        "                df.to_parquet(f'{output_dir}/file_{linenumber}.parquet')\n",
        "                parsed_lines.clear()\n",
        "        else:\n",
        "            df = pd.DataFrame(parsed_lines, columns=columns)\n",
        "            df.to_parquet(f'{output_dir}/file_{linenumber}.parquet')\n",
        "            parsed_lines.clear()"
      ],
      "metadata": {
        "execution": {
          "iopub.status.busy": "2022-01-18T20:38:37.538005Z",
          "iopub.execute_input": "2022-01-18T20:38:37.538629Z",
          "iopub.status.idle": "2022-01-18T20:38:37.546781Z",
          "shell.execute_reply.started": "2022-01-18T20:38:37.538594Z",
          "shell.execute_reply": "2022-01-18T20:38:37.545856Z"
        },
        "trusted": true,
        "id": "dt8mo1Vj7rWp"
      },
      "execution_count": 14,
      "outputs": []
    },
    {
      "cell_type": "code",
      "source": [
        "%time logs_to_df(logfile='/content/drive/MyDrive/Colab Notebooks/big_data/access.log', output_dir='/content/drive/MyDrive/Colab Notebooks/big_data/paquet_dir/', errors_file='errors.txt')"
      ],
      "metadata": {
        "execution": {
          "iopub.status.busy": "2022-01-18T09:15:45.901677Z",
          "iopub.execute_input": "2022-01-18T09:15:45.902222Z",
          "iopub.status.idle": "2022-01-18T09:18:17.035218Z",
          "shell.execute_reply.started": "2022-01-18T09:15:45.902182Z",
          "shell.execute_reply": "2022-01-18T09:18:17.033837Z"
        },
        "trusted": true,
        "colab": {
          "base_uri": "https://localhost:8080/"
        },
        "id": "Mnmw4k537rWq",
        "outputId": "0bf57b1b-21f5-428b-8082-9c6d2d4c62d8"
      },
      "execution_count": 15,
      "outputs": [
        {
          "output_type": "stream",
          "name": "stderr",
          "text": [
            "10365152it [01:38, 104952.42it/s]\n"
          ]
        },
        {
          "output_type": "stream",
          "name": "stdout",
          "text": [
            "CPU times: user 1min 18s, sys: 7.63 s, total: 1min 26s\n",
            "Wall time: 1min 39s\n"
          ]
        }
      ]
    },
    {
      "cell_type": "code",
      "source": [
        "%time logs_df = pd.read_parquet('/content/drive/MyDrive/Colab Notebooks/big_data/paquet_dir/')"
      ],
      "metadata": {
        "execution": {
          "iopub.status.busy": "2022-01-18T09:18:17.830392Z",
          "iopub.execute_input": "2022-01-18T09:18:17.83073Z",
          "iopub.status.idle": "2022-01-18T09:18:26.811309Z",
          "shell.execute_reply.started": "2022-01-18T09:18:17.830701Z",
          "shell.execute_reply": "2022-01-18T09:18:26.810351Z"
        },
        "trusted": true,
        "colab": {
          "base_uri": "https://localhost:8080/"
        },
        "id": "PUQHnomk7rWr",
        "outputId": "c72bd6aa-6e8b-4d38-ed97-233f9a36bdea"
      },
      "execution_count": 16,
      "outputs": [
        {
          "output_type": "stream",
          "name": "stdout",
          "text": [
            "CPU times: user 12 s, sys: 2.99 s, total: 15 s\n",
            "Wall time: 11 s\n"
          ]
        }
      ]
    },
    {
      "cell_type": "markdown",
      "source": [
        "Reading the whole directory takes about nine seconds. We now check the size of the resulting directory on disk:"
      ],
      "metadata": {
        "id": "Lbb-PTzZ7rWr"
      }
    },
    {
      "cell_type": "code",
      "source": [
        "logs_df"
      ],
      "metadata": {
        "execution": {
          "iopub.status.busy": "2022-01-18T09:19:18.316161Z",
          "iopub.execute_input": "2022-01-18T09:19:18.316477Z",
          "iopub.status.idle": "2022-01-18T09:19:23.473423Z",
          "shell.execute_reply.started": "2022-01-18T09:19:18.316447Z",
          "shell.execute_reply": "2022-01-18T09:19:23.472477Z"
        },
        "trusted": true,
        "colab": {
          "base_uri": "https://localhost:8080/",
          "height": 1000
        },
        "id": "2rudSFrz7rWt",
        "outputId": "2be52709-e4c5-46ec-f874-6020f13fda85"
      },
      "execution_count": 19,
      "outputs": [
        {
          "output_type": "execute_result",
          "data": {
            "text/html": [
              "\n",
              "  <div id=\"df-ee0fbf92-e171-48f0-b82f-59fa2d5c7668\">\n",
              "    <div class=\"colab-df-container\">\n",
              "      <div>\n",
              "<style scoped>\n",
              "    .dataframe tbody tr th:only-of-type {\n",
              "        vertical-align: middle;\n",
              "    }\n",
              "\n",
              "    .dataframe tbody tr th {\n",
              "        vertical-align: top;\n",
              "    }\n",
              "\n",
              "    .dataframe thead th {\n",
              "        text-align: right;\n",
              "    }\n",
              "</style>\n",
              "<table border=\"1\" class=\"dataframe\">\n",
              "  <thead>\n",
              "    <tr style=\"text-align: right;\">\n",
              "      <th></th>\n",
              "      <th>client</th>\n",
              "      <th>userid</th>\n",
              "      <th>datetime</th>\n",
              "      <th>method</th>\n",
              "      <th>request</th>\n",
              "      <th>status</th>\n",
              "      <th>size</th>\n",
              "      <th>referer</th>\n",
              "      <th>user_agent</th>\n",
              "    </tr>\n",
              "  </thead>\n",
              "  <tbody>\n",
              "    <tr>\n",
              "      <th>0</th>\n",
              "      <td>37.152.163.59</td>\n",
              "      <td>-</td>\n",
              "      <td>22/Jan/2019:12:38:27 +0330</td>\n",
              "      <td>GET</td>\n",
              "      <td>/image/29314?name=%D8%AF%DB%8C%D8%A8%D8%A7-7.j...</td>\n",
              "      <td>200</td>\n",
              "      <td>1105</td>\n",
              "      <td>https://www.zanbil.ir/product/29314/%DA%A9%D8%...</td>\n",
              "      <td>Mozilla/5.0 (Windows NT 6.1; WOW64; Trident/7....</td>\n",
              "    </tr>\n",
              "    <tr>\n",
              "      <th>1</th>\n",
              "      <td>37.152.163.59</td>\n",
              "      <td>-</td>\n",
              "      <td>22/Jan/2019:12:38:27 +0330</td>\n",
              "      <td>GET</td>\n",
              "      <td>/static/images/zanbil-kharid.png</td>\n",
              "      <td>200</td>\n",
              "      <td>358</td>\n",
              "      <td>https://www.zanbil.ir/product/29314/%DA%A9%D8%...</td>\n",
              "      <td>Mozilla/5.0 (Windows NT 6.1; WOW64; Trident/7....</td>\n",
              "    </tr>\n",
              "    <tr>\n",
              "      <th>2</th>\n",
              "      <td>85.9.73.119</td>\n",
              "      <td>-</td>\n",
              "      <td>22/Jan/2019:12:38:27 +0330</td>\n",
              "      <td>GET</td>\n",
              "      <td>/static/images/next.png</td>\n",
              "      <td>200</td>\n",
              "      <td>3045</td>\n",
              "      <td>https://znbl.ir/static/bundle-bundle_site_head...</td>\n",
              "      <td>Mozilla/5.0 (Windows NT 6.1; Win64; x64) Apple...</td>\n",
              "    </tr>\n",
              "    <tr>\n",
              "      <th>3</th>\n",
              "      <td>37.152.163.59</td>\n",
              "      <td>-</td>\n",
              "      <td>22/Jan/2019:12:38:27 +0330</td>\n",
              "      <td>GET</td>\n",
              "      <td>/image/29314?name=%D8%AF%DB%8C%D8%A8%D8%A7-4.j...</td>\n",
              "      <td>200</td>\n",
              "      <td>1457</td>\n",
              "      <td>https://www.zanbil.ir/product/29314/%DA%A9%D8%...</td>\n",
              "      <td>Mozilla/5.0 (Windows NT 6.1; WOW64; Trident/7....</td>\n",
              "    </tr>\n",
              "    <tr>\n",
              "      <th>4</th>\n",
              "      <td>85.9.73.119</td>\n",
              "      <td>-</td>\n",
              "      <td>22/Jan/2019:12:38:27 +0330</td>\n",
              "      <td>GET</td>\n",
              "      <td>/static/images/checked.png</td>\n",
              "      <td>200</td>\n",
              "      <td>1083</td>\n",
              "      <td>https://znbl.ir/static/bundle-bundle_site_head...</td>\n",
              "      <td>Mozilla/5.0 (Windows NT 6.1; Win64; x64) Apple...</td>\n",
              "    </tr>\n",
              "    <tr>\n",
              "      <th>...</th>\n",
              "      <td>...</td>\n",
              "      <td>...</td>\n",
              "      <td>...</td>\n",
              "      <td>...</td>\n",
              "      <td>...</td>\n",
              "      <td>...</td>\n",
              "      <td>...</td>\n",
              "      <td>...</td>\n",
              "      <td>...</td>\n",
              "    </tr>\n",
              "    <tr>\n",
              "      <th>10364860</th>\n",
              "      <td>86.104.110.254</td>\n",
              "      <td>-</td>\n",
              "      <td>26/Jan/2019:16:01:31 +0330</td>\n",
              "      <td>GET</td>\n",
              "      <td>/settings/logo</td>\n",
              "      <td>200</td>\n",
              "      <td>4120</td>\n",
              "      <td>https://www.zanbil.ir/m/browse/tv/%D8%AA%D9%84...</td>\n",
              "      <td>Mozilla/5.0 (iPhone; CPU iPhone OS 12_1 like M...</td>\n",
              "    </tr>\n",
              "    <tr>\n",
              "      <th>10364861</th>\n",
              "      <td>5.125.254.169</td>\n",
              "      <td>-</td>\n",
              "      <td>26/Jan/2019:16:01:31 +0330</td>\n",
              "      <td>GET</td>\n",
              "      <td>/image/5/brand</td>\n",
              "      <td>200</td>\n",
              "      <td>2171</td>\n",
              "      <td>https://www.zanbil.ir/m/filter/p62%2Cstexists</td>\n",
              "      <td>Mozilla/5.0 (iPhone; CPU iPhone OS 12_1_2 like...</td>\n",
              "    </tr>\n",
              "    <tr>\n",
              "      <th>10364862</th>\n",
              "      <td>65.49.68.192</td>\n",
              "      <td>-</td>\n",
              "      <td>26/Jan/2019:16:01:31 +0330</td>\n",
              "      <td>GET</td>\n",
              "      <td>/image/64646/productModel/150x150</td>\n",
              "      <td>200</td>\n",
              "      <td>5318</td>\n",
              "      <td>https://www.zanbil.ir/browse/audio-and-video-e...</td>\n",
              "      <td>Mozilla/5.0 (Windows NT 10.0; Win64; x64; rv:6...</td>\n",
              "    </tr>\n",
              "    <tr>\n",
              "      <th>10364863</th>\n",
              "      <td>5.125.254.169</td>\n",
              "      <td>-</td>\n",
              "      <td>26/Jan/2019:16:01:31 +0330</td>\n",
              "      <td>GET</td>\n",
              "      <td>/image/1/brand</td>\n",
              "      <td>200</td>\n",
              "      <td>3924</td>\n",
              "      <td>https://www.zanbil.ir/m/filter/p62%2Cstexists</td>\n",
              "      <td>Mozilla/5.0 (iPhone; CPU iPhone OS 12_1_2 like...</td>\n",
              "    </tr>\n",
              "    <tr>\n",
              "      <th>10364864</th>\n",
              "      <td>65.49.68.192</td>\n",
              "      <td>-</td>\n",
              "      <td>26/Jan/2019:16:01:31 +0330</td>\n",
              "      <td>GET</td>\n",
              "      <td>/image/56698/productModel/150x150</td>\n",
              "      <td>200</td>\n",
              "      <td>3570</td>\n",
              "      <td>https://www.zanbil.ir/browse/audio-and-video-e...</td>\n",
              "      <td>Mozilla/5.0 (Windows NT 10.0; Win64; x64; rv:6...</td>\n",
              "    </tr>\n",
              "  </tbody>\n",
              "</table>\n",
              "<p>10364865 rows × 9 columns</p>\n",
              "</div>\n",
              "      <button class=\"colab-df-convert\" onclick=\"convertToInteractive('df-ee0fbf92-e171-48f0-b82f-59fa2d5c7668')\"\n",
              "              title=\"Convert this dataframe to an interactive table.\"\n",
              "              style=\"display:none;\">\n",
              "        \n",
              "  <svg xmlns=\"http://www.w3.org/2000/svg\" height=\"24px\"viewBox=\"0 0 24 24\"\n",
              "       width=\"24px\">\n",
              "    <path d=\"M0 0h24v24H0V0z\" fill=\"none\"/>\n",
              "    <path d=\"M18.56 5.44l.94 2.06.94-2.06 2.06-.94-2.06-.94-.94-2.06-.94 2.06-2.06.94zm-11 1L8.5 8.5l.94-2.06 2.06-.94-2.06-.94L8.5 2.5l-.94 2.06-2.06.94zm10 10l.94 2.06.94-2.06 2.06-.94-2.06-.94-.94-2.06-.94 2.06-2.06.94z\"/><path d=\"M17.41 7.96l-1.37-1.37c-.4-.4-.92-.59-1.43-.59-.52 0-1.04.2-1.43.59L10.3 9.45l-7.72 7.72c-.78.78-.78 2.05 0 2.83L4 21.41c.39.39.9.59 1.41.59.51 0 1.02-.2 1.41-.59l7.78-7.78 2.81-2.81c.8-.78.8-2.07 0-2.86zM5.41 20L4 18.59l7.72-7.72 1.47 1.35L5.41 20z\"/>\n",
              "  </svg>\n",
              "      </button>\n",
              "      \n",
              "  <style>\n",
              "    .colab-df-container {\n",
              "      display:flex;\n",
              "      flex-wrap:wrap;\n",
              "      gap: 12px;\n",
              "    }\n",
              "\n",
              "    .colab-df-convert {\n",
              "      background-color: #E8F0FE;\n",
              "      border: none;\n",
              "      border-radius: 50%;\n",
              "      cursor: pointer;\n",
              "      display: none;\n",
              "      fill: #1967D2;\n",
              "      height: 32px;\n",
              "      padding: 0 0 0 0;\n",
              "      width: 32px;\n",
              "    }\n",
              "\n",
              "    .colab-df-convert:hover {\n",
              "      background-color: #E2EBFA;\n",
              "      box-shadow: 0px 1px 2px rgba(60, 64, 67, 0.3), 0px 1px 3px 1px rgba(60, 64, 67, 0.15);\n",
              "      fill: #174EA6;\n",
              "    }\n",
              "\n",
              "    [theme=dark] .colab-df-convert {\n",
              "      background-color: #3B4455;\n",
              "      fill: #D2E3FC;\n",
              "    }\n",
              "\n",
              "    [theme=dark] .colab-df-convert:hover {\n",
              "      background-color: #434B5C;\n",
              "      box-shadow: 0px 1px 3px 1px rgba(0, 0, 0, 0.15);\n",
              "      filter: drop-shadow(0px 1px 2px rgba(0, 0, 0, 0.3));\n",
              "      fill: #FFFFFF;\n",
              "    }\n",
              "  </style>\n",
              "\n",
              "      <script>\n",
              "        const buttonEl =\n",
              "          document.querySelector('#df-ee0fbf92-e171-48f0-b82f-59fa2d5c7668 button.colab-df-convert');\n",
              "        buttonEl.style.display =\n",
              "          google.colab.kernel.accessAllowed ? 'block' : 'none';\n",
              "\n",
              "        async function convertToInteractive(key) {\n",
              "          const element = document.querySelector('#df-ee0fbf92-e171-48f0-b82f-59fa2d5c7668');\n",
              "          const dataTable =\n",
              "            await google.colab.kernel.invokeFunction('convertToInteractive',\n",
              "                                                     [key], {});\n",
              "          if (!dataTable) return;\n",
              "\n",
              "          const docLinkHtml = 'Like what you see? Visit the ' +\n",
              "            '<a target=\"_blank\" href=https://colab.research.google.com/notebooks/data_table.ipynb>data table notebook</a>'\n",
              "            + ' to learn more about interactive tables.';\n",
              "          element.innerHTML = '';\n",
              "          dataTable['output_type'] = 'display_data';\n",
              "          await google.colab.output.renderOutput(dataTable, element);\n",
              "          const docLink = document.createElement('div');\n",
              "          docLink.innerHTML = docLinkHtml;\n",
              "          element.appendChild(docLink);\n",
              "        }\n",
              "      </script>\n",
              "    </div>\n",
              "  </div>\n",
              "  "
            ],
            "text/plain": [
              "                  client userid                    datetime method  \\\n",
              "0          37.152.163.59      -  22/Jan/2019:12:38:27 +0330    GET   \n",
              "1          37.152.163.59      -  22/Jan/2019:12:38:27 +0330    GET   \n",
              "2            85.9.73.119      -  22/Jan/2019:12:38:27 +0330    GET   \n",
              "3          37.152.163.59      -  22/Jan/2019:12:38:27 +0330    GET   \n",
              "4            85.9.73.119      -  22/Jan/2019:12:38:27 +0330    GET   \n",
              "...                  ...    ...                         ...    ...   \n",
              "10364860  86.104.110.254      -  26/Jan/2019:16:01:31 +0330    GET   \n",
              "10364861   5.125.254.169      -  26/Jan/2019:16:01:31 +0330    GET   \n",
              "10364862    65.49.68.192      -  26/Jan/2019:16:01:31 +0330    GET   \n",
              "10364863   5.125.254.169      -  26/Jan/2019:16:01:31 +0330    GET   \n",
              "10364864    65.49.68.192      -  26/Jan/2019:16:01:31 +0330    GET   \n",
              "\n",
              "                                                    request status  size  \\\n",
              "0         /image/29314?name=%D8%AF%DB%8C%D8%A8%D8%A7-7.j...    200  1105   \n",
              "1                          /static/images/zanbil-kharid.png    200   358   \n",
              "2                                   /static/images/next.png    200  3045   \n",
              "3         /image/29314?name=%D8%AF%DB%8C%D8%A8%D8%A7-4.j...    200  1457   \n",
              "4                                /static/images/checked.png    200  1083   \n",
              "...                                                     ...    ...   ...   \n",
              "10364860                                     /settings/logo    200  4120   \n",
              "10364861                                     /image/5/brand    200  2171   \n",
              "10364862                  /image/64646/productModel/150x150    200  5318   \n",
              "10364863                                     /image/1/brand    200  3924   \n",
              "10364864                  /image/56698/productModel/150x150    200  3570   \n",
              "\n",
              "                                                    referer  \\\n",
              "0         https://www.zanbil.ir/product/29314/%DA%A9%D8%...   \n",
              "1         https://www.zanbil.ir/product/29314/%DA%A9%D8%...   \n",
              "2         https://znbl.ir/static/bundle-bundle_site_head...   \n",
              "3         https://www.zanbil.ir/product/29314/%DA%A9%D8%...   \n",
              "4         https://znbl.ir/static/bundle-bundle_site_head...   \n",
              "...                                                     ...   \n",
              "10364860  https://www.zanbil.ir/m/browse/tv/%D8%AA%D9%84...   \n",
              "10364861      https://www.zanbil.ir/m/filter/p62%2Cstexists   \n",
              "10364862  https://www.zanbil.ir/browse/audio-and-video-e...   \n",
              "10364863      https://www.zanbil.ir/m/filter/p62%2Cstexists   \n",
              "10364864  https://www.zanbil.ir/browse/audio-and-video-e...   \n",
              "\n",
              "                                                 user_agent  \n",
              "0         Mozilla/5.0 (Windows NT 6.1; WOW64; Trident/7....  \n",
              "1         Mozilla/5.0 (Windows NT 6.1; WOW64; Trident/7....  \n",
              "2         Mozilla/5.0 (Windows NT 6.1; Win64; x64) Apple...  \n",
              "3         Mozilla/5.0 (Windows NT 6.1; WOW64; Trident/7....  \n",
              "4         Mozilla/5.0 (Windows NT 6.1; Win64; x64) Apple...  \n",
              "...                                                     ...  \n",
              "10364860  Mozilla/5.0 (iPhone; CPU iPhone OS 12_1 like M...  \n",
              "10364861  Mozilla/5.0 (iPhone; CPU iPhone OS 12_1_2 like...  \n",
              "10364862  Mozilla/5.0 (Windows NT 10.0; Win64; x64; rv:6...  \n",
              "10364863  Mozilla/5.0 (iPhone; CPU iPhone OS 12_1_2 like...  \n",
              "10364864  Mozilla/5.0 (Windows NT 10.0; Win64; x64; rv:6...  \n",
              "\n",
              "[10364865 rows x 9 columns]"
            ]
          },
          "metadata": {},
          "execution_count": 19
        }
      ]
    },
    {
      "cell_type": "code",
      "source": [
        ""
      ],
      "metadata": {
        "id": "a29aZrQT_KGw"
      },
      "execution_count": null,
      "outputs": []
    }
  ]
}